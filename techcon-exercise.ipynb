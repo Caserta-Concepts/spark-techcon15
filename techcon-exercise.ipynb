{
 "cells": [
  {
   "cell_type": "markdown",
   "metadata": {},
   "source": [
    "#Intro To Spark SQL"
   ]
  },
  {
   "cell_type": "code",
   "execution_count": 1,
   "metadata": {
    "collapsed": false
   },
   "outputs": [],
   "source": [
    "from pyspark.sql import Row\n",
    "from pyspark.sql.functions import *\n",
    "from pyspark.sql.types import IntegerType"
   ]
  },
  {
   "cell_type": "markdown",
   "metadata": {},
   "source": [
    "##pyspark sessions automatically create a spark context, and sql context\n"
   ]
  },
  {
   "cell_type": "code",
   "execution_count": 3,
   "metadata": {
    "collapsed": false
   },
   "outputs": [
    {
     "data": {
      "text/plain": [
       "['PACKAGE_EXTENSIONS',\n",
       " '__class__',\n",
       " '__delattr__',\n",
       " '__dict__',\n",
       " '__doc__',\n",
       " '__enter__',\n",
       " '__exit__',\n",
       " '__format__',\n",
       " '__getattribute__',\n",
       " '__getnewargs__',\n",
       " '__hash__',\n",
       " '__init__',\n",
       " '__module__',\n",
       " '__new__',\n",
       " '__reduce__',\n",
       " '__reduce_ex__',\n",
       " '__repr__',\n",
       " '__setattr__',\n",
       " '__sizeof__',\n",
       " '__str__',\n",
       " '__subclasshook__',\n",
       " '__weakref__',\n",
       " '_accumulatorServer',\n",
       " '_active_spark_context',\n",
       " '_batchSize',\n",
       " '_callsite',\n",
       " '_checkpointFile',\n",
       " '_conf',\n",
       " '_dictToJavaMap',\n",
       " '_do_init',\n",
       " '_ensure_initialized',\n",
       " '_gateway',\n",
       " '_getJavaStorageLevel',\n",
       " '_initialize_context',\n",
       " '_javaAccumulator',\n",
       " '_jsc',\n",
       " '_jvm',\n",
       " '_lock',\n",
       " '_next_accum_id',\n",
       " '_pickled_broadcast_vars',\n",
       " '_python_includes',\n",
       " '_temp_dir',\n",
       " '_unbatched_serializer',\n",
       " '_writeToFile',\n",
       " 'accumulator',\n",
       " 'addFile',\n",
       " 'addPyFile',\n",
       " 'appName',\n",
       " 'binaryFiles',\n",
       " 'binaryRecords',\n",
       " 'broadcast',\n",
       " 'cancelAllJobs',\n",
       " 'cancelJobGroup',\n",
       " 'clearFiles',\n",
       " 'defaultMinPartitions',\n",
       " 'defaultParallelism',\n",
       " 'dump_profiles',\n",
       " 'environment',\n",
       " 'getLocalProperty',\n",
       " 'hadoopFile',\n",
       " 'hadoopRDD',\n",
       " 'master',\n",
       " 'newAPIHadoopFile',\n",
       " 'newAPIHadoopRDD',\n",
       " 'parallelize',\n",
       " 'pickleFile',\n",
       " 'profiler_collector',\n",
       " 'pythonExec',\n",
       " 'runJob',\n",
       " 'sequenceFile',\n",
       " 'serializer',\n",
       " 'setCheckpointDir',\n",
       " 'setJobGroup',\n",
       " 'setLocalProperty',\n",
       " 'setSystemProperty',\n",
       " 'show_profiles',\n",
       " 'sparkHome',\n",
       " 'sparkUser',\n",
       " 'statusTracker',\n",
       " 'stop',\n",
       " 'textFile',\n",
       " 'union',\n",
       " 'version',\n",
       " 'wholeTextFiles']"
      ]
     },
     "execution_count": 3,
     "metadata": {},
     "output_type": "execute_result"
    }
   ],
   "source": [
    "dir(sc)"
   ]
  },
  {
   "cell_type": "code",
   "execution_count": 4,
   "metadata": {
    "collapsed": false
   },
   "outputs": [
    {
     "data": {
      "text/plain": [
       "['__class__',\n",
       " '__delattr__',\n",
       " '__dict__',\n",
       " '__doc__',\n",
       " '__format__',\n",
       " '__getattribute__',\n",
       " '__hash__',\n",
       " '__init__',\n",
       " '__module__',\n",
       " '__new__',\n",
       " '__reduce__',\n",
       " '__reduce_ex__',\n",
       " '__repr__',\n",
       " '__setattr__',\n",
       " '__sizeof__',\n",
       " '__str__',\n",
       " '__subclasshook__',\n",
       " '__weakref__',\n",
       " '_get_hive_ctx',\n",
       " '_inferSchema',\n",
       " '_jsc',\n",
       " '_jvm',\n",
       " '_sc',\n",
       " '_scala_SQLContext',\n",
       " '_ssql_ctx',\n",
       " 'applySchema',\n",
       " 'cacheTable',\n",
       " 'clearCache',\n",
       " 'createDataFrame',\n",
       " 'createExternalTable',\n",
       " 'getConf',\n",
       " 'inferSchema',\n",
       " 'jsonFile',\n",
       " 'jsonRDD',\n",
       " 'load',\n",
       " 'parquetFile',\n",
       " 'registerDataFrameAsTable',\n",
       " 'registerFunction',\n",
       " 'setConf',\n",
       " 'sql',\n",
       " 'table',\n",
       " 'tableNames',\n",
       " 'tables',\n",
       " 'uncacheTable']"
      ]
     },
     "execution_count": 4,
     "metadata": {},
     "output_type": "execute_result"
    }
   ],
   "source": [
    "dir(sqlCtx)"
   ]
  },
  {
   "cell_type": "markdown",
   "metadata": {},
   "source": [
    "##1. Working with dataframes\n"
   ]
  },
  {
   "cell_type": "markdown",
   "metadata": {},
   "source": [
    "load a json file directly into a dataframe"
   ]
  },
  {
   "cell_type": "code",
   "execution_count": 5,
   "metadata": {
    "collapsed": true
   },
   "outputs": [],
   "source": [
    "reviews = sqlCtx.jsonFile(\"/Users/elliottcordo/Projects/Caserta/spark-techcon15/data/yelp/yelp_academic_dataset_review.json\")"
   ]
  },
  {
   "cell_type": "markdown",
   "metadata": {},
   "source": [
    "how many partitions do we have?"
   ]
  },
  {
   "cell_type": "code",
   "execution_count": 6,
   "metadata": {
    "collapsed": false
   },
   "outputs": [
    {
     "data": {
      "text/plain": [
       "43"
      ]
     },
     "execution_count": 6,
     "metadata": {},
     "output_type": "execute_result"
    }
   ],
   "source": [
    "reviews.rdd.getNumPartitions()"
   ]
  },
  {
   "cell_type": "markdown",
   "metadata": {},
   "source": [
    "let's repartition"
   ]
  },
  {
   "cell_type": "code",
   "execution_count": 7,
   "metadata": {
    "collapsed": false
   },
   "outputs": [
    {
     "data": {
      "text/plain": [
       "2"
      ]
     },
     "execution_count": 7,
     "metadata": {},
     "output_type": "execute_result"
    }
   ],
   "source": [
    "reviews = reviews.repartition(2)\n",
    "reviews.rdd.getNumPartitions()"
   ]
  },
  {
   "cell_type": "markdown",
   "metadata": {},
   "source": [
    "let's see what the schema looks like"
   ]
  },
  {
   "cell_type": "code",
   "execution_count": 8,
   "metadata": {
    "collapsed": false
   },
   "outputs": [
    {
     "name": "stdout",
     "output_type": "stream",
     "text": [
      "root\n",
      " |-- business_id: string (nullable = true)\n",
      " |-- date: string (nullable = true)\n",
      " |-- review_id: string (nullable = true)\n",
      " |-- stars: long (nullable = true)\n",
      " |-- text: string (nullable = true)\n",
      " |-- type: string (nullable = true)\n",
      " |-- user_id: string (nullable = true)\n",
      " |-- votes: struct (nullable = true)\n",
      " |    |-- cool: long (nullable = true)\n",
      " |    |-- funny: long (nullable = true)\n",
      " |    |-- useful: long (nullable = true)\n",
      "\n"
     ]
    }
   ],
   "source": [
    "reviews.printSchema()"
   ]
  },
  {
   "cell_type": "markdown",
   "metadata": {},
   "source": [
    "take a sample of 5 rows"
   ]
  },
  {
   "cell_type": "code",
   "execution_count": 9,
   "metadata": {
    "collapsed": false
   },
   "outputs": [
    {
     "data": {
      "text/plain": [
       "[Row(business_id=u'vcNAWiLM4dR7D2nwwJ7nCA', date=u'2007-05-17', review_id=u'15SdjuK7DmYqUAj6rjGowg', stars=5, text=u\"dr. goldberg offers everything i look for in a general practitioner.  he's nice and easy to talk to without being patronizing; he's always on time in seeing his patients; he's affiliated with a top-notch hospital (nyu) which my parents have explained to me is very important in case something happens and you need surgery; and you can get referrals to see specialists without having to see him first.  really, what more do you need?  i'm sitting here trying to think of any complaints i have about him, but i'm really drawing a blank.\", type=u'review', user_id=u'Xqd0DzHaiyRqVH3WRG7hzg', votes=Row(cool=1, funny=0, useful=2)),\n",
       " Row(business_id=u'vcNAWiLM4dR7D2nwwJ7nCA', date=u'2012-02-14', review_id=u'-TsVN230RCkLYKBeLsuz7A', stars=4, text=u\"Dr. Goldberg has been my doctor for years and I like him.  I've found his office to be fairly efficient.  Today I actually got to see the doctor a few minutes early!  \\n\\nHe seems very engaged with his patients and his demeanor is friendly, yet authoritative.    \\n\\nI'm glad to have Dr. Goldberg as my doctor.\", type=u'review', user_id=u'zvJCcrpm2yOZrxKffwGQLA', votes=Row(cool=1, funny=0, useful=1)),\n",
       " Row(business_id=u'vcNAWiLM4dR7D2nwwJ7nCA', date=u'2012-05-15', review_id=u'ebcN2aqmNUuYNoyvQErgnA', stars=4, text=u'Got a letter in the mail last week that said Dr. Goldberg is moving to Arizona to take a new position there in June.  He will be missed very much.  \\n\\nI think finding a new doctor in NYC that you actually like might almost be as awful as trying to find a date!', type=u'review', user_id=u'zvJCcrpm2yOZrxKffwGQLA', votes=Row(cool=1, funny=0, useful=2)),\n",
       " Row(business_id=u'vcNAWiLM4dR7D2nwwJ7nCA', date=u'2014-01-02', review_id=u'kMu0knsSUFW2DZXqKkGWlg', stars=5, text=u\"Top notch doctor in a top notch practice. Can't say I am surprised when I was referred to him by another doctor who I think is wonderful and because he went to one of the best medical schools in the country. \\nIt is really easy to get an appointment. There is minimal wait to be seen and his bedside manner is great.\", type=u'review', user_id=u'jE5xVugujSaskAoh2DRx3Q', votes=Row(cool=0, funny=0, useful=0)),\n",
       " Row(business_id=u'vcNAWiLM4dR7D2nwwJ7nCA', date=u'2014-08-01', review_id=u'bOJD0Kc3wGioat3oSFqgPQ', stars=1, text=u\"I'm writing this review to give you a heads up before you see this Doctor. The office staff and administration are very unprofessional. I left a message with multiple people regarding my bill, and no one ever called me back. I had to hound them to get an answer about my bill. \\n\\nSecond, and most important, make sure your insurance is going to cover Dr. Goldberg's visits and blood work. He recommended to me that I get a physical, and he knew I was a student because I told him. I got the physical done. Later, I found out my health insurance doesn't pay for preventative visits. I received an $800.00 bill for the blood work. I can't pay for my bill because I'm a student and don't have any cash flow at this current time. I can't believe the Doctor wouldn't give me a heads up to make sure my insurance would cover work that wasn't necessary and was strictly preventative. The office can't do anything to help me cover the bill. In addition, the office staff said the onus is on me to make sure my insurance covers visits. Frustrating situation!\", type=u'review', user_id=u'tAB7GJpUuaKF4W-3P0d95A', votes=Row(cool=0, funny=0, useful=1))]"
      ]
     },
     "execution_count": 9,
     "metadata": {},
     "output_type": "execute_result"
    }
   ],
   "source": [
    "reviews.take(5)"
   ]
  },
  {
   "cell_type": "markdown",
   "metadata": {},
   "source": [
    "take a sample of 5 rows where users have voted a business \"cool\""
   ]
  },
  {
   "cell_type": "code",
   "execution_count": 13,
   "metadata": {
    "collapsed": false
   },
   "outputs": [
    {
     "data": {
      "text/plain": [
       "[Row(business_id=u'vcNAWiLM4dR7D2nwwJ7nCA', date=u'2007-05-17', review_id=u'15SdjuK7DmYqUAj6rjGowg', stars=5, text=u\"dr. goldberg offers everything i look for in a general practitioner.  he's nice and easy to talk to without being patronizing; he's always on time in seeing his patients; he's affiliated with a top-notch hospital (nyu) which my parents have explained to me is very important in case something happens and you need surgery; and you can get referrals to see specialists without having to see him first.  really, what more do you need?  i'm sitting here trying to think of any complaints i have about him, but i'm really drawing a blank.\", type=u'review', user_id=u'Xqd0DzHaiyRqVH3WRG7hzg', votes=Row(cool=1, funny=0, useful=2)),\n",
       " Row(business_id=u'vcNAWiLM4dR7D2nwwJ7nCA', date=u'2012-02-14', review_id=u'-TsVN230RCkLYKBeLsuz7A', stars=4, text=u\"Dr. Goldberg has been my doctor for years and I like him.  I've found his office to be fairly efficient.  Today I actually got to see the doctor a few minutes early!  \\n\\nHe seems very engaged with his patients and his demeanor is friendly, yet authoritative.    \\n\\nI'm glad to have Dr. Goldberg as my doctor.\", type=u'review', user_id=u'zvJCcrpm2yOZrxKffwGQLA', votes=Row(cool=1, funny=0, useful=1)),\n",
       " Row(business_id=u'vcNAWiLM4dR7D2nwwJ7nCA', date=u'2012-05-15', review_id=u'ebcN2aqmNUuYNoyvQErgnA', stars=4, text=u'Got a letter in the mail last week that said Dr. Goldberg is moving to Arizona to take a new position there in June.  He will be missed very much.  \\n\\nI think finding a new doctor in NYC that you actually like might almost be as awful as trying to find a date!', type=u'review', user_id=u'zvJCcrpm2yOZrxKffwGQLA', votes=Row(cool=1, funny=0, useful=2)),\n",
       " Row(business_id=u'HZdLhv6COCleJMo7nPl-RA', date=u'2013-12-23', review_id=u'CFiLh7WvH7dM3qVZvNiacQ', stars=2, text=u\"After waiting for almost 30 minutes to trade in an old phone part of the buy back program, our customer service rep incorrectly processed the transaction. This led to us waiting another 30 minutes for him to correct it. Don't visit this store if you want pleasant or good service.\", type=u'review', user_id=u'l_szjd-ken3ma6oHDkTYXg', votes=Row(cool=1, funny=1, useful=1)),\n",
       " Row(business_id=u'mVHrayjG3uZ_RLHkLj-AMg', date=u'2013-03-30', review_id=u'3Es8GsjkssusYgeU6_ZVpQ', stars=5, text=u'This place should have a lot more reviews - but I\\'m glad it doesn\\'t, they don\\'t need to get any busier.\\n\\nIts been there ages, and looks it. If you\\'re all about ambiance, don\\'t bother. If you pretend you\\'re in a movie set in Pittsburgh 30 years ago it works pretty well. The service is sometimes hit or miss. Most of girls are good, one is very slow, one is amazing. They are all friendly and usually a few different people will check in to make sure that you\\'re happy. Everything is made fresh so be prepared that nothing comes flying out of that kitchen - busy times it can take a good while to get food. \\n\\nThe food is AWESOME! Worth any little complaints I might think up before it gets there. Once its on the table, I forget them all.\\n\\n-Fish Sandwiich\\n-Salmon (huge and delicious)\\n-Flounder\\n-Shrimp a few ways (\"Norfolk\" style is oily for my taste, and I never had it growing up in Norfolk.)\\n-Hawkins St Special\\n-Prime Rib (sized for two, watch it)\\n\\nThe prices are low, the portions are large, and just about everything on the menu  is delicious. I\\'m not one to pick a place because they give you a lot of food, but if you like a good value and don\\'t want to compromise on taste, this place is a gem.', type=u'review', user_id=u'8fApIAMHn2MZJFUiCQto5Q', votes=Row(cool=1, funny=0, useful=2))]"
      ]
     },
     "execution_count": 13,
     "metadata": {},
     "output_type": "execute_result"
    }
   ],
   "source": [
    "reviews.filter(\"votes.cool = 1\").take(5)"
   ]
  },
  {
   "cell_type": "markdown",
   "metadata": {},
   "source": [
    "let's define a udf to use in our dataframe operation"
   ]
  },
  {
   "cell_type": "code",
   "execution_count": 14,
   "metadata": {
    "collapsed": true
   },
   "outputs": [],
   "source": [
    "calc_weight = udf(lambda votes, stars: stars if votes == 1 else 0, IntegerType())"
   ]
  },
  {
   "cell_type": "markdown",
   "metadata": {},
   "source": [
    "create a new dataframe using this udf"
   ]
  },
  {
   "cell_type": "code",
   "execution_count": 15,
   "metadata": {
    "collapsed": false
   },
   "outputs": [
    {
     "data": {
      "text/plain": [
       "[Row(business_id=u'vcNAWiLM4dR7D2nwwJ7nCA', cool=1, stars=5, cool_weight=5),\n",
       " Row(business_id=u'vcNAWiLM4dR7D2nwwJ7nCA', cool=1, stars=4, cool_weight=4),\n",
       " Row(business_id=u'vcNAWiLM4dR7D2nwwJ7nCA', cool=1, stars=4, cool_weight=4),\n",
       " Row(business_id=u'vcNAWiLM4dR7D2nwwJ7nCA', cool=0, stars=5, cool_weight=0),\n",
       " Row(business_id=u'vcNAWiLM4dR7D2nwwJ7nCA', cool=0, stars=1, cool_weight=0)]"
      ]
     },
     "execution_count": 15,
     "metadata": {},
     "output_type": "execute_result"
    }
   ],
   "source": [
    "cool_business = reviews.select(\"business_id\", \"votes.cool\", \"stars\", calc_weight(\"votes.cool\", \"stars\").alias(\"cool_weight\"))\n",
    "\n",
    "cool_business.take(5)"
   ]
  },
  {
   "cell_type": "markdown",
   "metadata": {},
   "source": [
    "group by and sum"
   ]
  },
  {
   "cell_type": "code",
   "execution_count": 16,
   "metadata": {
    "collapsed": false
   },
   "outputs": [
    {
     "data": {
      "text/plain": [
       "[Row(business_id=u'05l84gPaZX2IWaIaoAq3hg', SUM(cool_weight#22)=5),\n",
       " Row(business_id=u'rLqvHfvtojxd_DtM9kqw8g', SUM(cool_weight#22)=8),\n",
       " Row(business_id=u'uy8jqFcLAA-dve66REHmRg', SUM(cool_weight#22)=64),\n",
       " Row(business_id=u'ZCE_ZHlZGpWPGICWpGNrdQ', SUM(cool_weight#22)=62),\n",
       " Row(business_id=u'UxiSHVZxMdey7vRwm1fQyA', SUM(cool_weight#22)=49)]"
      ]
     },
     "execution_count": 16,
     "metadata": {},
     "output_type": "execute_result"
    }
   ],
   "source": [
    "cool_business.select(\"business_id\", \"cool_weight\").groupBy(\"business_id\").sum(\"cool_weight\").take(5)"
   ]
  },
  {
   "cell_type": "markdown",
   "metadata": {
    "collapsed": true
   },
   "source": [
    "##2. Lets add a second dataframe"
   ]
  },
  {
   "cell_type": "code",
   "execution_count": 17,
   "metadata": {
    "collapsed": false
   },
   "outputs": [],
   "source": [
    "business = sqlCtx.jsonFile(\"/Users/elliottcordo/Projects/Caserta/spark-techcon15/data/yelp/yelp_academic_dataset_business.json\")"
   ]
  },
  {
   "cell_type": "markdown",
   "metadata": {
    "collapsed": true
   },
   "source": [
    "lets cache business in memory"
   ]
  },
  {
   "cell_type": "code",
   "execution_count": 18,
   "metadata": {
    "collapsed": false
   },
   "outputs": [
    {
     "data": {
      "text/plain": [
       "DataFrame[attributes: struct<Accepts Credit Cards:string,Accepts Insurance:boolean,Ages Allowed:string,Alcohol:string,Ambience:struct<casual:boolean,classy:boolean,divey:boolean,hipster:boolean,intimate:boolean,romantic:boolean,touristy:boolean,trendy:boolean,upscale:boolean>,Attire:string,BYOB:boolean,BYOB/Corkage:string,By Appointment Only:boolean,Caters:boolean,Coat Check:boolean,Corkage:boolean,Delivery:boolean,Dietary Restrictions:struct<dairy-free:boolean,gluten-free:boolean,halal:boolean,kosher:boolean,soy-free:boolean,vegan:boolean,vegetarian:boolean>,Dogs Allowed:boolean,Drive-Thru:boolean,Good For:struct<breakfast:boolean,brunch:boolean,dessert:boolean,dinner:boolean,latenight:boolean,lunch:boolean>,Good For Dancing:boolean,Good For Groups:boolean,Good For Kids:boolean,Good for Kids:boolean,Hair Types Specialized In:struct<africanamerican:boolean,asian:boolean,coloring:boolean,curly:boolean,extensions:boolean,kids:boolean,perms:boolean,straightperms:boolean>,Happy Hour:boolean,Has TV:boolean,Music:struct<background_music:boolean,dj:boolean,jukebox:boolean,karaoke:boolean,live:boolean,playlist:boolean,video:boolean>,Noise Level:string,Open 24 Hours:boolean,Order at Counter:boolean,Outdoor Seating:boolean,Parking:struct<garage:boolean,lot:boolean,street:boolean,valet:boolean,validated:boolean>,Payment Types:struct<amex:boolean,cash_only:boolean,discover:boolean,mastercard:boolean,visa:boolean>,Price Range:bigint,Smoking:string,Take-out:boolean,Takes Reservations:boolean,Waiter Service:boolean,Wheelchair Accessible:boolean,Wi-Fi:string>, business_id: string, categories: array<string>, city: string, full_address: string, hours: struct<Friday:struct<close:string,open:string>,Monday:struct<close:string,open:string>,Saturday:struct<close:string,open:string>,Sunday:struct<close:string,open:string>,Thursday:struct<close:string,open:string>,Tuesday:struct<close:string,open:string>,Wednesday:struct<close:string,open:string>>, latitude: double, longitude: double, name: string, neighborhoods: array<string>, open: boolean, review_count: bigint, stars: double, state: string, type: string]"
      ]
     },
     "execution_count": 18,
     "metadata": {},
     "output_type": "execute_result"
    }
   ],
   "source": [
    "business.cache()"
   ]
  },
  {
   "cell_type": "markdown",
   "metadata": {},
   "source": [
    "reviews the schema"
   ]
  },
  {
   "cell_type": "code",
   "execution_count": 19,
   "metadata": {
    "collapsed": false
   },
   "outputs": [
    {
     "name": "stdout",
     "output_type": "stream",
     "text": [
      "root\n",
      " |-- attributes: struct (nullable = true)\n",
      " |    |-- Accepts Credit Cards: string (nullable = true)\n",
      " |    |-- Accepts Insurance: boolean (nullable = true)\n",
      " |    |-- Ages Allowed: string (nullable = true)\n",
      " |    |-- Alcohol: string (nullable = true)\n",
      " |    |-- Ambience: struct (nullable = true)\n",
      " |    |    |-- casual: boolean (nullable = true)\n",
      " |    |    |-- classy: boolean (nullable = true)\n",
      " |    |    |-- divey: boolean (nullable = true)\n",
      " |    |    |-- hipster: boolean (nullable = true)\n",
      " |    |    |-- intimate: boolean (nullable = true)\n",
      " |    |    |-- romantic: boolean (nullable = true)\n",
      " |    |    |-- touristy: boolean (nullable = true)\n",
      " |    |    |-- trendy: boolean (nullable = true)\n",
      " |    |    |-- upscale: boolean (nullable = true)\n",
      " |    |-- Attire: string (nullable = true)\n",
      " |    |-- BYOB: boolean (nullable = true)\n",
      " |    |-- BYOB/Corkage: string (nullable = true)\n",
      " |    |-- By Appointment Only: boolean (nullable = true)\n",
      " |    |-- Caters: boolean (nullable = true)\n",
      " |    |-- Coat Check: boolean (nullable = true)\n",
      " |    |-- Corkage: boolean (nullable = true)\n",
      " |    |-- Delivery: boolean (nullable = true)\n",
      " |    |-- Dietary Restrictions: struct (nullable = true)\n",
      " |    |    |-- dairy-free: boolean (nullable = true)\n",
      " |    |    |-- gluten-free: boolean (nullable = true)\n",
      " |    |    |-- halal: boolean (nullable = true)\n",
      " |    |    |-- kosher: boolean (nullable = true)\n",
      " |    |    |-- soy-free: boolean (nullable = true)\n",
      " |    |    |-- vegan: boolean (nullable = true)\n",
      " |    |    |-- vegetarian: boolean (nullable = true)\n",
      " |    |-- Dogs Allowed: boolean (nullable = true)\n",
      " |    |-- Drive-Thru: boolean (nullable = true)\n",
      " |    |-- Good For: struct (nullable = true)\n",
      " |    |    |-- breakfast: boolean (nullable = true)\n",
      " |    |    |-- brunch: boolean (nullable = true)\n",
      " |    |    |-- dessert: boolean (nullable = true)\n",
      " |    |    |-- dinner: boolean (nullable = true)\n",
      " |    |    |-- latenight: boolean (nullable = true)\n",
      " |    |    |-- lunch: boolean (nullable = true)\n",
      " |    |-- Good For Dancing: boolean (nullable = true)\n",
      " |    |-- Good For Groups: boolean (nullable = true)\n",
      " |    |-- Good For Kids: boolean (nullable = true)\n",
      " |    |-- Good for Kids: boolean (nullable = true)\n",
      " |    |-- Hair Types Specialized In: struct (nullable = true)\n",
      " |    |    |-- africanamerican: boolean (nullable = true)\n",
      " |    |    |-- asian: boolean (nullable = true)\n",
      " |    |    |-- coloring: boolean (nullable = true)\n",
      " |    |    |-- curly: boolean (nullable = true)\n",
      " |    |    |-- extensions: boolean (nullable = true)\n",
      " |    |    |-- kids: boolean (nullable = true)\n",
      " |    |    |-- perms: boolean (nullable = true)\n",
      " |    |    |-- straightperms: boolean (nullable = true)\n",
      " |    |-- Happy Hour: boolean (nullable = true)\n",
      " |    |-- Has TV: boolean (nullable = true)\n",
      " |    |-- Music: struct (nullable = true)\n",
      " |    |    |-- background_music: boolean (nullable = true)\n",
      " |    |    |-- dj: boolean (nullable = true)\n",
      " |    |    |-- jukebox: boolean (nullable = true)\n",
      " |    |    |-- karaoke: boolean (nullable = true)\n",
      " |    |    |-- live: boolean (nullable = true)\n",
      " |    |    |-- playlist: boolean (nullable = true)\n",
      " |    |    |-- video: boolean (nullable = true)\n",
      " |    |-- Noise Level: string (nullable = true)\n",
      " |    |-- Open 24 Hours: boolean (nullable = true)\n",
      " |    |-- Order at Counter: boolean (nullable = true)\n",
      " |    |-- Outdoor Seating: boolean (nullable = true)\n",
      " |    |-- Parking: struct (nullable = true)\n",
      " |    |    |-- garage: boolean (nullable = true)\n",
      " |    |    |-- lot: boolean (nullable = true)\n",
      " |    |    |-- street: boolean (nullable = true)\n",
      " |    |    |-- valet: boolean (nullable = true)\n",
      " |    |    |-- validated: boolean (nullable = true)\n",
      " |    |-- Payment Types: struct (nullable = true)\n",
      " |    |    |-- amex: boolean (nullable = true)\n",
      " |    |    |-- cash_only: boolean (nullable = true)\n",
      " |    |    |-- discover: boolean (nullable = true)\n",
      " |    |    |-- mastercard: boolean (nullable = true)\n",
      " |    |    |-- visa: boolean (nullable = true)\n",
      " |    |-- Price Range: long (nullable = true)\n",
      " |    |-- Smoking: string (nullable = true)\n",
      " |    |-- Take-out: boolean (nullable = true)\n",
      " |    |-- Takes Reservations: boolean (nullable = true)\n",
      " |    |-- Waiter Service: boolean (nullable = true)\n",
      " |    |-- Wheelchair Accessible: boolean (nullable = true)\n",
      " |    |-- Wi-Fi: string (nullable = true)\n",
      " |-- business_id: string (nullable = true)\n",
      " |-- categories: array (nullable = true)\n",
      " |    |-- element: string (containsNull = true)\n",
      " |-- city: string (nullable = true)\n",
      " |-- full_address: string (nullable = true)\n",
      " |-- hours: struct (nullable = true)\n",
      " |    |-- Friday: struct (nullable = true)\n",
      " |    |    |-- close: string (nullable = true)\n",
      " |    |    |-- open: string (nullable = true)\n",
      " |    |-- Monday: struct (nullable = true)\n",
      " |    |    |-- close: string (nullable = true)\n",
      " |    |    |-- open: string (nullable = true)\n",
      " |    |-- Saturday: struct (nullable = true)\n",
      " |    |    |-- close: string (nullable = true)\n",
      " |    |    |-- open: string (nullable = true)\n",
      " |    |-- Sunday: struct (nullable = true)\n",
      " |    |    |-- close: string (nullable = true)\n",
      " |    |    |-- open: string (nullable = true)\n",
      " |    |-- Thursday: struct (nullable = true)\n",
      " |    |    |-- close: string (nullable = true)\n",
      " |    |    |-- open: string (nullable = true)\n",
      " |    |-- Tuesday: struct (nullable = true)\n",
      " |    |    |-- close: string (nullable = true)\n",
      " |    |    |-- open: string (nullable = true)\n",
      " |    |-- Wednesday: struct (nullable = true)\n",
      " |    |    |-- close: string (nullable = true)\n",
      " |    |    |-- open: string (nullable = true)\n",
      " |-- latitude: double (nullable = true)\n",
      " |-- longitude: double (nullable = true)\n",
      " |-- name: string (nullable = true)\n",
      " |-- neighborhoods: array (nullable = true)\n",
      " |    |-- element: string (containsNull = true)\n",
      " |-- open: boolean (nullable = true)\n",
      " |-- review_count: long (nullable = true)\n",
      " |-- stars: double (nullable = true)\n",
      " |-- state: string (nullable = true)\n",
      " |-- type: string (nullable = true)\n",
      "\n"
     ]
    }
   ],
   "source": [
    "business.printSchema()"
   ]
  },
  {
   "cell_type": "markdown",
   "metadata": {},
   "source": [
    "join the data"
   ]
  },
  {
   "cell_type": "code",
   "execution_count": 20,
   "metadata": {
    "collapsed": true
   },
   "outputs": [],
   "source": [
    "joined = cool_business.join(business, reviews.business_id == business.business_id, \"left_outer\")"
   ]
  },
  {
   "cell_type": "markdown",
   "metadata": {},
   "source": [
    "group by city"
   ]
  },
  {
   "cell_type": "code",
   "execution_count": 21,
   "metadata": {
    "collapsed": false
   },
   "outputs": [
    {
     "data": {
      "text/plain": [
       "[Row(city=u'Summerlin South', SUM(cool_weight#22)=8),\n",
       " Row(city=u'South Hills', SUM(cool_weight#22)=0),\n",
       " Row(city=u'Ahwatukee', SUM(cool_weight#22)=271),\n",
       " Row(city=u'Newbridge', SUM(cool_weight#22)=9),\n",
       " Row(city=u'Green Tree', SUM(cool_weight#22)=12),\n",
       " Row(city=u'Roslin', SUM(cool_weight#22)=4),\n",
       " Row(city=u'Castle Shannon', SUM(cool_weight#22)=3),\n",
       " Row(city=u'Pittsburgh/Waterfront', SUM(cool_weight#22)=38),\n",
       " Row(city=u'Stanfield', SUM(cool_weight#22)=0),\n",
       " Row(city=u'De Forest', SUM(cool_weight#22)=26)]"
      ]
     },
     "execution_count": 21,
     "metadata": {},
     "output_type": "execute_result"
    }
   ],
   "source": [
    "joined.select(joined.city, joined.cool_weight).groupBy(\"city\").sum(\"cool_weight\").take(10)"
   ]
  },
  {
   "cell_type": "markdown",
   "metadata": {},
   "source": [
    "#3. Finally some sql"
   ]
  },
  {
   "cell_type": "markdown",
   "metadata": {},
   "source": [
    "first register our dataframes as temporary tables:"
   ]
  },
  {
   "cell_type": "code",
   "execution_count": 22,
   "metadata": {
    "collapsed": true
   },
   "outputs": [],
   "source": [
    "business.registerTempTable(\"business\")\n",
    "reviews.registerTempTable(\"reviews\")"
   ]
  },
  {
   "cell_type": "markdown",
   "metadata": {},
   "source": [
    "now a SQL statement!"
   ]
  },
  {
   "cell_type": "code",
   "execution_count": 24,
   "metadata": {
    "collapsed": false
   },
   "outputs": [
    {
     "data": {
      "text/plain": [
       "[Row(city=u'Summerlin South', cnt=9),\n",
       " Row(city=u'South Hills', cnt=4),\n",
       " Row(city=u'Ahwatukee', cnt=291),\n",
       " Row(city=u'Newbridge', cnt=16),\n",
       " Row(city=u'Green Tree', cnt=44)]"
      ]
     },
     "execution_count": 24,
     "metadata": {},
     "output_type": "execute_result"
    }
   ],
   "source": [
    "sql = \"\"\"\n",
    "    select city, count(1) as cnt\n",
    "    from reviews r\n",
    "      join business b on b.business_id = r.business_id\n",
    "    group by city \"\"\"\n",
    "\n",
    "sqlCtx.sql(sql).take(5)"
   ]
  },
  {
   "cell_type": "markdown",
   "metadata": {},
   "source": [
    "create a udf that can be leveraged in SQL"
   ]
  },
  {
   "cell_type": "code",
   "execution_count": 25,
   "metadata": {
    "collapsed": true
   },
   "outputs": [],
   "source": [
    "sqlCtx.registerFunction(\"good_or_bad\", lambda x: 'good' if x >=3 else 'bad')\n"
   ]
  },
  {
   "cell_type": "markdown",
   "metadata": {},
   "source": [
    "run SQL leverating this SQL statement"
   ]
  },
  {
   "cell_type": "code",
   "execution_count": 26,
   "metadata": {
    "collapsed": false
   },
   "outputs": [
    {
     "data": {
      "text/plain": [
       "[Row(name=u'Starbucks', cnt=4169),\n",
       " Row(name=u'Hash House A Go Go', cnt=3905),\n",
       " Row(name=u'Mon Ami Gabi', cnt=3830),\n",
       " Row(name=u'Earl of Sandwich', cnt=3498),\n",
       " Row(name=u'Wicked Spoon', cnt=2841)]"
      ]
     },
     "execution_count": 26,
     "metadata": {},
     "output_type": "execute_result"
    }
   ],
   "source": [
    "sql = \"\"\"\n",
    "    select name, cnt\n",
    "    from (\n",
    "      select b.name, count(1) as cnt\n",
    "      from reviews r\n",
    "        join business b on b.business_id = r.business_id\n",
    "      where good_or_bad(r.stars) = \"good\"\n",
    "      group by b.name) a\n",
    "    order by cnt desc\"\"\"\n",
    "\n",
    "sqlCtx.sql(sql).take(5)\n"
   ]
  }
 ],
 "metadata": {
  "kernelspec": {
   "display_name": "Python 2",
   "name": "python2"
  },
  "language_info": {
   "codemirror_mode": {
    "name": "ipython",
    "version": 2
   },
   "file_extension": ".py",
   "mimetype": "text/x-python",
   "name": "python",
   "nbconvert_exporter": "python",
   "pygments_lexer": "ipython2",
   "version": "2.7.5"
  }
 },
 "nbformat": 4,
 "nbformat_minor": 0
}